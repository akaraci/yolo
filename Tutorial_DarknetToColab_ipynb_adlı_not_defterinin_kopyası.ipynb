{
  "nbformat": 4,
  "nbformat_minor": 0,
  "metadata": {
    "colab": {
      "name": "Tutorial DarknetToColab.ipynb adlı not defterinin kopyası",
      "provenance": [],
      "collapsed_sections": [],
      "machine_shape": "hm",
      "include_colab_link": true
    },
    "kernelspec": {
      "name": "python3",
      "display_name": "Python 3"
    },
    "accelerator": "GPU"
  },
  "cells": [
    {
      "cell_type": "markdown",
      "metadata": {
        "id": "view-in-github",
        "colab_type": "text"
      },
      "source": [
        "<a href=\"https://colab.research.google.com/github/akaraci/yolo/blob/main/Tutorial_DarknetToColab_ipynb_adl%C4%B1_not_defterinin_kopyas%C4%B1.ipynb\" target=\"_parent\"><img src=\"https://colab.research.google.com/assets/colab-badge.svg\" alt=\"Open In Colab\"/></a>"
      ]
    },
    {
      "cell_type": "markdown",
      "metadata": {
        "id": "Ll6XWs4WeErH"
      },
      "source": [
        "![Notebook Title](http://blog.ibanyez.info/download/B20190408T000000071.jpg)"
      ]
    },
    {
      "cell_type": "markdown",
      "metadata": {
        "id": "Cqo1gtPX6BXO"
      },
      "source": [
        "# How to train YOLOv3 using Darknet on Colab notebook and optimize the VM runtime load times\n",
        "\n",
        "## Welcome!\n",
        "\n",
        "This Colab notebook will show you how to:\n",
        "\n",
        "* Train a **Yolo v3** model using **Darknet** using the Colab **12GB-RAM GPU**.\n",
        "* Turn Colab notebooks into an effective tool to work on real projects. Dealing with the handicap of a runtime that will **blow up every 12 hours** into the space!\n",
        "  * Working directly from the files on your computer.\n",
        "  * Configure your notebook to install everything you need and start training in about a minute (Tested using 550MB dataset). \n",
        "  * Receive your trained weights directly on your computer during the training. While the notebook is training you can check how it is going using your trained weights in your computer.\n",
        "\n",
        "\n",
        "#### This notebook is part of the post [How to train YOLOv3 using Darknet framework and optimize the VM runtime load times](http://blog.ibanyez.info/blogs/coding/20190410-run-a-google-colab-notebook-to-train-yolov3-using-darknet-in/) I encourage you to visit! You will find a deeper explanation about Google Colab, the goods and the limitations of this great tool. \n",
        "\n",
        "\n",
        "### These are the steps we'll follow:\n",
        "\n",
        "* Configure Google Drive and map as network  _Drive_.\n",
        "* Some utils to help to do some tasks.\n",
        "* Configure the pre-requisites on the runtime.\n",
        "  * Check the CUDA installation on the runtime VM.\n",
        "  * Install cuDNN.\n",
        "  * Clone and compile Darknet. We'll use a repo based on [AlexeyAB's Darknet repo](https://github.com/AlexeyAB/darknet/). I applied  some changes to make possible to load files from `/My Drive/` and reduced the number of logs on console to speed up the notebook.\n",
        "  * We'll check that everything works great.\n",
        "* Explained how to manage your YOLO files on your computer and it will be used transparently from this notebook.\n",
        "\n",
        "> _**NOTE:** Cells with an annotation **`# Not Necessary cell`**. Can be removed without having any impact. They are only explanatory content._\n",
        "\n",
        "### Without further ado, let's start!\n"
      ]
    },
    {
      "cell_type": "markdown",
      "metadata": {
        "id": "G4J9sFi39ScM"
      },
      "source": [
        "## STEP 0. Configure runtime to work with GPU\n",
        "\n",
        "We want to use the **12GB-RAM GPU** hardware acceleration!\n",
        "\n",
        "Go to **> Menu > Runtime > Configure Runtime Type** And select **GPU** From the **Hardware accelerator** drop down meu"
      ]
    },
    {
      "cell_type": "markdown",
      "metadata": {
        "id": "uOJg1x9gLvcj"
      },
      "source": [
        "## STEP 1. Connect your files to Google Drive\n",
        "In order to have your files in your local computer you need to install and configure Google Backup and Sync to keep one folder of your Drive synced with a folder on your computer.\n",
        "\n",
        "![schema drive.jpg](http://blog.ibanyez.info/download/B20190408T000000060.jpg)\n",
        "\n",
        "1. Create a folder on your Google Drive named _**darknet**_\n",
        "2. Configure the Google Backup and Sync as follows. If you don't speak Spanish, you maybe learn some words! **;)**\n",
        "![Sync Drive.jpg](http://blog.ibanyez.info/download/B20190408T000000063.jpg)\n",
        "\n",
        "**After this step you'll have a folder called _darknet_ in your local computer. This folder is where you will work with files on your computer**\n",
        "\n",
        "> _**TIP** - We need to have a good performance downloading data from Drive to Colab. Having a lot of files in your Drive root folder can slow down the things quite a bit. It's a good practice working with Colab to move all your root folder files into a folder_\n",
        "\n",
        "\n"
      ]
    },
    {
      "cell_type": "markdown",
      "metadata": {
        "id": "xaAwkZv0rBQd"
      },
      "source": [
        "## STEP 2. Connect the Colab notebook to Google Drive\n",
        "\n",
        "Now we're gonna map your Google Drive folder. This first step is the only one that will require your manual interaction every time you run your notebook.\n",
        "\n",
        "* Execute the following cell _(Click on Play button or press CTRL + ENTER)_ and click on the link to authorize your notebook to access to your Google Drive. \n",
        "* Paste the code Google will give to you and push `enter`"
      ]
    },
    {
      "cell_type": "code",
      "metadata": {
        "id": "LJZRcEw0LoBd"
      },
      "source": [
        "# This cell imports the drive library and mounts your Google Drive as a VM local drive. You can access to your Drive files \n",
        "# using this path \"/content/gdrive/My Drive/\"\n",
        "\n",
        "from google.colab import drive\n",
        "drive.mount('/content/drive')"
      ],
      "execution_count": null,
      "outputs": []
    },
    {
      "cell_type": "markdown",
      "metadata": {
        "id": "V8pPjCXXvASq"
      },
      "source": [
        "Congratulations! Now you can access to your local computer folder directly from here!\n",
        "\n",
        "Check it out!"
      ]
    },
    {
      "cell_type": "code",
      "metadata": {
        "id": "DrdyBxyZvLpM"
      },
      "source": [
        "# Not Necessary cell\n",
        "# List the content of your local computer folder \n",
        "!ls -la \"/content/drive/My Drive/darknet\""
      ],
      "execution_count": null,
      "outputs": []
    },
    {
      "cell_type": "code",
      "metadata": {
        "id": "sGNcZ9EtOK7k"
      },
      "source": [
        "!sudo apt-get install tree"
      ],
      "execution_count": null,
      "outputs": []
    },
    {
      "cell_type": "code",
      "metadata": {
        "id": "ZGsRuXM-OQBb"
      },
      "source": [
        "!tree /content/drive/My\\ Drive/darknet/"
      ],
      "execution_count": null,
      "outputs": []
    },
    {
      "cell_type": "markdown",
      "metadata": {
        "id": "q1_APkL1nYbz"
      },
      "source": [
        "### UPDATE NOTE\n",
        "\n",
        "If you want to simplify your paths, you can use a Symbolic link:\n",
        "\n",
        "`!ln -s \"/content/gdrive/My Drive/darknet/\" /mydrive`\n",
        "\n",
        " Then you'll be able to access your Google Drive files just using `/mydrive` path\n",
        "\n",
        "**BE CAREFUL: All the paths in this notebook are without using Symbolic link. You'll have to remember to change the path everywhere**\n",
        "\n",
        "Thanks to **Dennis Kashkin** for this recommendation!"
      ]
    },
    {
      "cell_type": "code",
      "metadata": {
        "id": "yreDPcJdoo29"
      },
      "source": [
        "# Uncomment if you want to use Symbolic link\n",
        "!ln -s /content/drive/My\\ Drive/darknet1/backup/ /mydrive\n",
        "!ls /mydrive"
      ],
      "execution_count": null,
      "outputs": []
    },
    {
      "cell_type": "markdown",
      "metadata": {
        "id": "db68v7TmMTmR"
      },
      "source": [
        "## STEP 2. Check CUDA release version\n",
        "\n",
        "Nvidia CUDA is pre-installed on Colab notebooks. Now we'll check the version installed.\n",
        "\n",
        "> _**BE AWARE:** Maybe some time from the time I'm writing these lines (April 9th, 2019)  the CUDA version is upgraded on Colab and you should download another version of the cuDNN in the next step. Now is release 10.0 and we are using cuDNN (cudnn-10.0-linux-x64-v7.5.0.56.tgz) accordingly_"
      ]
    },
    {
      "cell_type": "code",
      "metadata": {
        "id": "ew5eGbl9MdKL"
      },
      "source": [
        "# This cell can be commented once you checked the current CUDA version\n",
        "# CUDA: Let's check that Nvidia CUDA is already pre-installed and which version is it. In some time from now maybe you \n",
        "!/usr/local/cuda/bin/nvcc --version\n"
      ],
      "execution_count": null,
      "outputs": []
    },
    {
      "cell_type": "markdown",
      "metadata": {
        "id": "v3nkYzWwMuBk"
      },
      "source": [
        "## STEP 3. Install cuDNN according to the current CUDA version\n",
        "Now, you need to download cuDNN from Nvidia web site. You'll need to sign up on the site.\n",
        "\n",
        "* Download cuDNN from [Nvidia website](https://developer.nvidia.com/cudnn) \n",
        "\n",
        "  * Right now, because we have _**CUDA 10.0**_ preinstalled in Colab runtime, you need download [cuDNN v7.5.0.56 for CUDA v10.0](https://developer.nvidia.com/compute/machine-learning/cudnn/secure/v7.5.0.56/prod/10.0_20190219/cudnn-10.0-linux-x64-v7.5.0.56.tgz) - the file is cudnn-10.0-linux-x64-v7.5.0.56.tgz\n",
        "\n",
        "* On your local computer, create a folder named _**cuDNN**_ in your local folder _**darknet**_. Copy the _**tgz**_ file there \n",
        "\n"
      ]
    },
    {
      "cell_type": "code",
      "metadata": {
        "id": "r_A8LDvyM7x5"
      },
      "source": [
        "# We're unzipping the cuDNN files from your Drive folder directly to the VM CUDA folders\n",
        "!tar -xzvf drive/My\\ Drive/darknet/cuDNN/cudnn-10.1-linux-x64-v8.0.4.30.tgz -C /usr/local/\n",
        "!chmod a+r /usr/local/cuda/include/cudnn.h\n",
        "\n",
        "# Now we check the version we already installed. Can comment this line on future runs\n",
        "!cat /usr/local/cuda/include/cudnn.h | grep CUDNN_MAJOR -A 2"
      ],
      "execution_count": null,
      "outputs": []
    },
    {
      "cell_type": "markdown",
      "metadata": {
        "id": "9x9BFQOfNowN"
      },
      "source": [
        "## STEP 4. Installing Darknet\n",
        "Great!! We have all the necessary to start working with Darknet. \n",
        "\n",
        "This notebook works with a slightly modified version of darknet, which is based on the [AlexeyAB Darknet repo](https://github.com/AlexeyAB/darknet/)\n",
        "The changes applied to the original repo are:\n",
        "* Allowing to use spaces on the darknet configuration files _**obj.data**_. Necessary to work with Google Drive directly.\n",
        "* Removing some logs on every epoch. The original repo write more logs than the Colab notebook can sync. This creates a long queue during the training. This version only shows the results after every iteration.\n",
        "\n",
        "You can take a look to the code at the [github repo](https://github.com/kriyeng/darknet/)\n",
        "\n",
        "> _**TRICK**: Because we want to run the notebook fast every time we will compile darknet only the first time we run this notebook. Then, we'll save the compiled version to your drive. For the future executions we'll copy the compiled one instead of compiling again._ \n",
        "\n",
        "\n",
        "**Here comes our first trick to speed up the runtime load time**\n",
        "\n",
        "* The first time we will:\n",
        "  * Clone and compile the darknet project.\n",
        "  * Copy the compiled version to our Google Drive Floder\n",
        "  \n",
        "* The next times, instead of compiling it again on every runtime load, we'll copy the compiled version to our VM machine!\n",
        "\n",
        "When compiling the first time, your output last line has to be something like this:\n",
        "\n",
        "`g++ -std=c++11 -Iinclude/ -I3rdparty/stb/include -DOPENCV `pkg-config --cflags opencv` -DGPU (...)`"
      ]
    },
    {
      "cell_type": "markdown",
      "metadata": {
        "id": "UXi9S5XAIP3A"
      },
      "source": [
        "## STEP 4-A. Cloning and compiling Darkent. ONLY NEEDS TO BE RUN ON THE FIRST EXECUTION!!\n",
        "In this step we'll clone the darkent repo and compile it. \n",
        "* Clone Repo\n",
        "* Compile Darknet\n",
        "* Copy compiled version to Drive\n",
        "\n",
        "When compiling ends, your output last line has to be something like this:\n",
        "\n",
        "_`g++ -std=c++11 -Iinclude/ -I3rdparty/stb/include -DOPENCV `pkg-config --cflags opencv` -DGPU (...)_`"
      ]
    },
    {
      "cell_type": "code",
      "metadata": {
        "id": "Pt0Y06QTNyZG"
      },
      "source": [
        "# Leave this code uncommented on the very first run of your notebook or if you ever need to recompile darknet again.\n",
        "# Comment this code on the future runs.\n",
        "!git clone https://github.com/kriyeng/darknet/\n",
        "%cd darknet\n",
        "\n",
        "# Check the folder\n",
        "!ls\n",
        "\n",
        "# I have a branch where I have done the changes commented above\n",
        "!git checkout feature/google-colab\n",
        "\n",
        "#Compile Darknet\n",
        "!make\n",
        "\n",
        "#Copies the Darknet compiled version to Google drive\n",
        "!cp ./darknet /content/drive/My\\ Drive/darknet/bin/darknet"
      ],
      "execution_count": null,
      "outputs": []
    },
    {
      "cell_type": "code",
      "metadata": {
        "id": "9fMVzCxElUFw"
      },
      "source": [
        "\n",
        "!cp /content/darknet/backup /content/drive/My\\ Drive/backup -r\n"
      ],
      "execution_count": null,
      "outputs": []
    },
    {
      "cell_type": "markdown",
      "metadata": {
        "id": "rrVEej6lIHTI"
      },
      "source": [
        "## STEP 4-B. Copying the compiled version of Darknet from Drive. UNCOMMENT AFTER FIRST EXECUTION\n",
        "Copy the darknet compiled version from drive to the VM.\n",
        "* Make the local darknet folder\n",
        "* Copy the darknet file\n",
        "* Set execution permissions"
      ]
    },
    {
      "cell_type": "code",
      "metadata": {
        "id": "afhkRhbqFb4O"
      },
      "source": [
        "from google.colab import drive\n",
        "drive.mount('/content/drive')"
      ],
      "execution_count": null,
      "outputs": []
    },
    {
      "cell_type": "code",
      "metadata": {
        "id": "jAN2TNZ007c_"
      },
      "source": [
        "!cp /content/drive/My\\ Drive/darknet1 ./darknet -r\n",
        "\n",
        "# Set execution permissions to Darknet\n",
        "!chmod +x ./darknet\n"
      ],
      "execution_count": null,
      "outputs": []
    },
    {
      "cell_type": "code",
      "metadata": {
        "id": "cY-G5Z2yRMh7"
      },
      "source": [
        "!ln -s /content/drive/My\\ Drive/darknet1/backup/ /mydrive\n",
        "!ls /mydrive"
      ],
      "execution_count": null,
      "outputs": []
    },
    {
      "cell_type": "code",
      "metadata": {
        "id": "WD5FBWmjrsks"
      },
      "source": [
        "#download files\n",
        "def imShow(path):\n",
        "  import cv2\n",
        "  import matplotlib.pyplot as plt\n",
        "  %matplotlib inline\n",
        "\n",
        "  image = cv2.imread(path)\n",
        "  height, width = image.shape[:2]\n",
        "  resized_image = cv2.resize(image,(3*width, 3*height), interpolation = cv2.INTER_CUBIC)\n",
        "\n",
        "  fig = plt.gcf()\n",
        "  fig.set_size_inches(18, 10)\n",
        "  plt.axis(\"off\")\n",
        "  #plt.rcParams['figure.figsize'] = [10, 5]\n",
        "  plt.imshow(cv2.cvtColor(resized_image, cv2.COLOR_BGR2RGB))\n",
        "  plt.show()\n",
        "  \n",
        "  \n",
        "def upload():\n",
        "  from google.colab import files\n",
        "  uploaded = files.upload() \n",
        "  for name, data in uploaded.items():\n",
        "    with open(name, 'wb') as f:\n",
        "      f.write(data)\n",
        "      print ('saved file', name)\n",
        "def download(path):\n",
        "  from google.colab import files\n",
        "  files.download(path)"
      ],
      "execution_count": null,
      "outputs": []
    },
    {
      "cell_type": "code",
      "metadata": {
        "id": "9-VAmH_Gu2HX"
      },
      "source": [
        ""
      ],
      "execution_count": null,
      "outputs": []
    },
    {
      "cell_type": "markdown",
      "metadata": {
        "id": "FQepiQV2uyUi"
      },
      "source": [
        "Calculate MAP"
      ]
    },
    {
      "cell_type": "code",
      "metadata": {
        "id": "axs4eyGitujQ"
      },
      "source": [
        "!./darknet detector map \"/content/drive/My Drive/darknet1/obj3.data\" cfg/yolov3_custom.cfg \"/content/drive/My Drive/darknet1/backup/yolov3_custom_final.weights\""
      ],
      "execution_count": null,
      "outputs": []
    },
    {
      "cell_type": "code",
      "metadata": {
        "id": "op1iEE3bOVR6"
      },
      "source": [
        "# Not necessary cell\n",
        "# Execute darknet using YOLOv3 model with pre-trained weights to detect objects on 'person.jpg'\n",
        "# Set execution permissions to Darknet\n",
        "!chmod +x ./darknet\n",
        "%cd /content/darknet\n",
        "! ./darknet detect cfg/yolov3_custom.cfg weights/yolov3_custom_last.weights img/cp301.png -dont-show\n",
        "\n",
        "# Show the result using the helper imgShow()\n",
        "imShow('predictions.jpg')"
      ],
      "execution_count": null,
      "outputs": []
    },
    {
      "cell_type": "code",
      "metadata": {
        "id": "WewV3jU3B4Eo"
      },
      "source": [
        "# Copy fils from Google Drive to the VM local filesystem\n",
        "!cp -r \"/content/gdrive/My Drive/darknet/img\" ./img\n"
      ],
      "execution_count": null,
      "outputs": []
    },
    {
      "cell_type": "code",
      "metadata": {
        "id": "13fRzkiQiPhW"
      },
      "source": [
        "!chmod +x ./darknet\n",
        "!./darknet detector train \"/content/drive/My Drive/darknet1/obj3.data\" \"/content/drive/My Drive/darknet1/cfg/yolov3_custom.cfg\" \"/content/drive/My Drive/darknet1/weights/darknet53.conv.74\" -dont_show -clear\n",
        "#!./darknet detector train \"/content/drive/My Drive/darknet1/obj3.data\" \"/content/drive/My Drive/darknet1/cfg/yolov3_custom.cfg\" \"/content/drive/My Drive/darknet1/backup/yolov3_custom_last.weights\" -dont_show -clear\n",
        "#!./darknet detector train \"/content/drive/My Drive/darknet1/obj3.data\" \"/content/drive/My Drive/darknet1/cfg/yolov3.cfg\" \"/content/drive/My Drive/darknet1/weights/darknet53.conv.74\" -dont_show -clear"
      ],
      "execution_count": null,
      "outputs": []
    },
    {
      "cell_type": "code",
      "metadata": {
        "id": "3fvb3L5qRox0"
      },
      "source": [
        "# Not necessary cell\n",
        "# Execute darknet using YOLOv3 model with pre-trained weights to detect objects on 'person.jpg'\n",
        "# Set execution permissions to Darknet\n",
        "!chmod +x ./darknet\n",
        "%cd /content/darknet\n",
        "#! ./darknet detect cfg/yolov3_test.cfg /content/drive/My\\ Drive/darknet1/backup/yolov3_11000.weights img/c6.jpeg -dont-show\n",
        "! ./darknet detect cfg/yolov3_custom.cfg /content/drive/My\\ Drive/darknet1/backup/yolov3_custom_final.weights img/cp118.png -dont-show  -ext_output <test.txt> result.txt Result.jpg\n",
        "# Show the result using the helper imgShow()\n",
        "imShow('predictions.jpg')"
      ],
      "execution_count": null,
      "outputs": []
    },
    {
      "cell_type": "code",
      "metadata": {
        "id": "JvDrV1chY_2-"
      },
      "source": [
        "import cv2\n",
        "import os\n",
        "import matplotlib.pyplot as plt\n",
        "%matplotlib inline\n",
        "path=\"img/c62.jpeg\"\n",
        "\n",
        "!chmod +x ./darknet\n",
        "%cd /content/darknet\n",
        "image_path=\"\"\n",
        "path1 = os.path.join(\"img\")\n",
        "for filename in os.listdir(path1):\n",
        "  if (os.path.splitext(filename)[1]!=\".txt\"):\n",
        "    image_path = os.path.join(path1, filename)\n",
        "    print(os.path.splitext(filename)[1])\n",
        "    print(image_path)  \n",
        "    print(filename)  \n",
        "    img = cv2.imread(image_path)\n",
        "    ! ./darknet detect cfg/yolov3_custom.cfg /content/drive/My\\ Drive/darknet1/backup/yolov3_custom_final.weights \"$image_path\" -dont-show  -ext_output <test.txt> result.txt Result.jpg\n",
        "    #!./darknet detector test obj3.data cfg/yolov3_test.cfg /content/drive/My\\ Drive/darknet1/weights/yolov3_final.weights -dont_show -ext_output <data/test.txt> result.txt\n",
        "    #!./darknet detector batch cfg/yolov3_test.cfg /content/drive/My\\ Drive/darknet1/weights/yolov3_final.weights batch exp/in_images/ exp/out_images/> exp/results/results.txt\n",
        "\n",
        "    import re\n",
        "    path=\"result.txt\"\n",
        "    myfile=open(path,'r')\n",
        "    lines=myfile.readlines()\n",
        "    pattern= \"Chest\"\n",
        "\n",
        "    for line in lines:\n",
        "      if re.search(pattern,line):\n",
        "        Cord_Raw=line\n",
        "    Cord=Cord_Raw.split(\"(\")[1].split(\")\")[0].split()\n",
        "    print(Cord)\n",
        "    if (int(Cord[1])<0): Cord[1]='0'\n",
        "    if (int(Cord[3])<0): Cord[3]='0'\n",
        "    x_min=int(Cord[1])\n",
        "    x_max=x_min + int(Cord[5])\n",
        "    y_min=int(Cord[3])\n",
        "    y_max=y_min+ int(Cord[7])\n",
        "\n",
        "    crop_img = img[y_min:y_max, x_min:x_max]\n",
        "\n",
        "    cv2.imwrite(os.path.join(\"/content/drive/My Drive/darknet1/newimg/\",filename),crop_img)\n",
        "    plt.imshow(crop_img)\n",
        "    plt.show()\n",
        "    imShow('predictions.jpg')\n",
        "    #plt.show()"
      ],
      "execution_count": null,
      "outputs": []
    },
    {
      "cell_type": "code",
      "metadata": {
        "id": "PxjweuUHwIUB"
      },
      "source": [
        "from keras.callbacks import TensorBoard\n",
        "import time"
      ],
      "execution_count": null,
      "outputs": []
    },
    {
      "cell_type": "code",
      "metadata": {
        "id": "7FBpRB3rzOhj"
      },
      "source": [
        "%load_ext tensorboard\n",
        "%tensorboard --logdir runs\n",
        "\n"
      ],
      "execution_count": null,
      "outputs": []
    },
    {
      "cell_type": "markdown",
      "metadata": {
        "id": "0oWYkXA0LtCQ"
      },
      "source": [
        "## PERFORMANCE TIPS & TRICKS\n",
        "\n",
        "* **Speed up load times of the runtime:** When everything is checked that works, you can remove cells or comment unnecessary lines of code to make your loading time lower on every run. \n",
        "\n",
        "* **How to keep your notebook alive for more time?:** Keep you browser with your notebook open. If you close your browser, your notebook will reach the iddle time and will be removed from Colab cloud Service. (90 minutes)\n",
        "  \n",
        "* **Re-run your training after reaching the limitation time for Colab runtimes (12 hours):** \n",
        "  * Open a new notebook or reconnect the current one.\n",
        "  * Comment the cell above and uncomment the cell below.\n",
        "  * In your local computer, copy the file **backup/yolov3_last.weights** to your local computer **weights/** folder. \n",
        "  * Execute Run all in the **> menu > Runtime > Run All**\n",
        "  * _The copy step is not absolutely necessary, but I like to keep a copy of the last training session and not overwrite this file on next trainings._"
      ]
    },
    {
      "cell_type": "code",
      "metadata": {
        "id": "josdFFdVMyj3"
      },
      "source": [
        "# Start training at the point where the last runtime finished\n",
        "#!./darknet detector train \"/content/gdrive/My Drive/darknet/obj.data\" \"/content/gdrive/My Drive/darknet/yolov3.cfg\" \"/content/gdrive/My Drive/darknet/weights/yolov_last.weights\" -dont_show "
      ],
      "execution_count": null,
      "outputs": []
    },
    {
      "cell_type": "markdown",
      "metadata": {
        "id": "G3C8fIrVKR4T"
      },
      "source": [
        "## TROUBLESHOOTING \n",
        "The main problems you can face if your model throw an error is:\n",
        "\n",
        "* Images or files not found. Check the **Yolov3 cheat sheet** image above and check that everything is ok. \n",
        "* If have you configured wrongly your **filters** and **classes** in the **yolov3.cfg**. Check the **Yolov3 cheet sheet** above.\n",
        "* You can face some out of memory or library errors mainly for the lack of some the pre-requisits. In this case, check the versions of the current libraries installed on your Colab VM. You can find more information in the first steps of this notebook.\n",
        "* **Batch** and **subdivisions** parameters on your **yolov3.cfg** can affect to the memory allocation as well. Refer to the original repo [Here]() for further details.\n",
        "\n",
        "### TROUBLESHOOTING UPDATE\n",
        "Be careful if you are preparing your files on Windows. If you use **CRLF** on your files instead of **LF** You can have problems opening the files correctly. - Thanks to [Satya Shetty](https://twitter.com/satyashetty) for sharing this issue!\n"
      ]
    },
    {
      "cell_type": "markdown",
      "metadata": {
        "id": "46LRTt-5Pr52"
      },
      "source": [
        "## About me\n",
        "\n",
        "You can find the original post with more explanations about this notebook at [How to train YOLOv3 using Darknet framework and optimize the VM runtime load times](post link)\n",
        "\n",
        "I'm David Ibañez from Barcelona. Feel free to get in touch!\n",
        "\n",
        "* You can visit my blog at [Dev-ibanyez.info](http://blog.ibanyex.info)\n",
        "* You can get in touch with me on [Twitter](https://twitter.com/dav_ibanez)\n",
        "* You can get in touch or contribute to this notebook at [Github](https://github.com/kriyeng/yolo-on-colab-notebook/)\n",
        "* You can comment on the [dev.to post about this notebook ](PENDING)\n",
        "\n",
        "Thanks for you having read this notebook! :clap: :clap: :clap:\n",
        "\n",
        "## SOURCES\n",
        "\n",
        "\n",
        "#### Other sources\n",
        "* YOLO original web site [Joseph Redmon Page](https://pjreddie.com/darknet/yolo/)\n",
        "* AlexeyAB darknet repo [github](https://github.com/AlexeyAB/darknet/)\n",
        "* The Ivan Goncharov [notebook](https://github.com/ivangrov/YOLOv3-GoogleColab/blob/master/YOLOv3_GoogleColab.ipynb) inspired me to try Google Colab and end up creating this notebook."
      ]
    }
  ]
}